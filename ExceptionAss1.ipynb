{
 "cells": [
  {
   "cell_type": "code",
   "execution_count": null,
   "id": "4b5e39b4-6264-45ff-b158-522a9bb5472f",
   "metadata": {},
   "outputs": [],
   "source": [
    "#Q1-\n",
    "\"\"\"\n",
    "In Python, an exception is an event that occurs during the execution of a \n",
    "program that disrupts the normal flow of the program's instructions.\n",
    "\n",
    "When an exceptional condition arises, such as an error or unexpected behavior,\n",
    "an exception object is raised. This object contains information about the error\n",
    "and can be caught and handled by the program.Exceptions provide a mechanism for\n",
    "handling and managing errors in a controlled manner. They allow us to catch and\n",
    "handle exceptional conditions, preventing the program from abnormally terminating\n",
    "and providing an opportunity to gracefully recover or respond to the error.\n",
    "\n",
    "Syntax errors, on the other hand, are different from exceptions. They occur when\n",
    "the Python interpreter encounters code that violates the language syntax rules.\n",
    "Syntax errors are typically detected during the parsing or compilation phase \n",
    "before the program is executed. These errors prevent the program from running \n",
    "altogether since the code is not valid Python syntax.\n",
    "\n",
    "\"\"\""
   ]
  },
  {
   "cell_type": "code",
   "execution_count": 2,
   "id": "9b46478f-aab3-472f-b9f8-fb69e4c5476b",
   "metadata": {},
   "outputs": [
    {
     "ename": "ZeroDivisionError",
     "evalue": "division by zero",
     "output_type": "error",
     "traceback": [
      "\u001b[0;31m---------------------------------------------------------------------------\u001b[0m",
      "\u001b[0;31mZeroDivisionError\u001b[0m                         Traceback (most recent call last)",
      "Cell \u001b[0;32mIn[2], line 16\u001b[0m\n\u001b[1;32m     14\u001b[0m num2 \u001b[38;5;241m=\u001b[39m \u001b[38;5;241m0\u001b[39m\n\u001b[1;32m     15\u001b[0m \u001b[38;5;66;03m# ZeroDivisionError in next line\u001b[39;00m\n\u001b[0;32m---> 16\u001b[0m result \u001b[38;5;241m=\u001b[39m \u001b[43mdivide_numbers\u001b[49m\u001b[43m(\u001b[49m\u001b[43mnum1\u001b[49m\u001b[43m,\u001b[49m\u001b[43m \u001b[49m\u001b[43mnum2\u001b[49m\u001b[43m)\u001b[49m\n\u001b[1;32m     17\u001b[0m \u001b[38;5;66;03m# From here nothing would be executed, as in prvious line Exception occurs, \u001b[39;00m\n\u001b[1;32m     18\u001b[0m \u001b[38;5;66;03m# which is not handled\u001b[39;00m\n\u001b[1;32m     19\u001b[0m \u001b[38;5;28mprint\u001b[39m(\u001b[38;5;124m\"\u001b[39m\u001b[38;5;124mResult:\u001b[39m\u001b[38;5;124m\"\u001b[39m, result)\n",
      "Cell \u001b[0;32mIn[2], line 10\u001b[0m, in \u001b[0;36mdivide_numbers\u001b[0;34m(a, b)\u001b[0m\n\u001b[1;32m      9\u001b[0m \u001b[38;5;28;01mdef\u001b[39;00m \u001b[38;5;21mdivide_numbers\u001b[39m(a, b):\n\u001b[0;32m---> 10\u001b[0m     result \u001b[38;5;241m=\u001b[39m \u001b[43ma\u001b[49m\u001b[43m \u001b[49m\u001b[38;5;241;43m/\u001b[39;49m\u001b[43m \u001b[49m\u001b[43mb\u001b[49m\n\u001b[1;32m     11\u001b[0m     \u001b[38;5;28;01mreturn\u001b[39;00m result\n",
      "\u001b[0;31mZeroDivisionError\u001b[0m: division by zero"
     ]
    }
   ],
   "source": [
    "#Q2-\n",
    "\"\"\"\n",
    "When an exception is not handled in Python, it results in an unhandled exception, \n",
    "which causes the program to terminate abruptly and displays an error message \n",
    "with a traceback. This traceback provides information about the exception type,\n",
    "the line of code that raised the exception, and the sequence of function calls\n",
    "leading to the exception.\n",
    "\"\"\"\n",
    "def divide_numbers(a, b):\n",
    "    result = a / b\n",
    "    return result\n",
    "\n",
    "num1 = 10\n",
    "num2 = 0\n",
    "# ZeroDivisionError in next line\n",
    "result = divide_numbers(num1, num2)\n",
    "# From here nothing would be executed, as in prvious line Exception occurs, \n",
    "# which is not handled\n",
    "print(\"Result:\", result)\n"
   ]
  },
  {
   "cell_type": "code",
   "execution_count": 5,
   "id": "5f0cd160-4485-44de-9595-dbe3e202e73c",
   "metadata": {},
   "outputs": [
    {
     "name": "stdout",
     "output_type": "stream",
     "text": [
      "Error: division by zero\n",
      "Result: None\n"
     ]
    }
   ],
   "source": [
    "#Q3-\n",
    "# In Python, the 'try-except' statements are used to catch and handle exceptions.\n",
    "# For eg. let's handle previous question exception-\n",
    "def divide_numbers(a, b):\n",
    "    try:\n",
    "        result = a / b\n",
    "        return result\n",
    "    except ZeroDivisionError as e :\n",
    "        print(\"Error:\", e)\n",
    "\n",
    "num1 = 10\n",
    "num2 = 0\n",
    "\n",
    "result = divide_numbers(num1, num2)\n",
    "print(\"Result:\", result)\n"
   ]
  },
  {
   "cell_type": "code",
   "execution_count": 6,
   "id": "c8207626-5459-4b5f-9e85-33d42317ca58",
   "metadata": {},
   "outputs": [
    {
     "name": "stdout",
     "output_type": "stream",
     "text": [
      "Division result: 5.0\n"
     ]
    }
   ],
   "source": [
    "#Q4-\n",
    "# 1. try and else-\n",
    "try:\n",
    "    num1 = 10\n",
    "    num2 = 2\n",
    "    result = num1 / num2\n",
    "except ZeroDivisionError:\n",
    "    print(\"Error: Cannot divide by zero\")\n",
    "else:\n",
    "    print(\"Division result:\", result)\n"
   ]
  },
  {
   "cell_type": "code",
   "execution_count": 10,
   "id": "d55a7550-6bd3-4df1-849d-5a795c150238",
   "metadata": {},
   "outputs": [
    {
     "name": "stdout",
     "output_type": "stream",
     "text": [
      "Error: File not found\n"
     ]
    }
   ],
   "source": [
    "# 2. finally-\n",
    "try:\n",
    "    file = open(\"data.txt\", \"r\")\n",
    "    data = file.read()\n",
    "    print(\"File contents:\", data)\n",
    "except FileNotFoundError:\n",
    "    print(\"Error: File not found\")\n",
    "finally:\n",
    "    if file:\n",
    "        file.close()\n"
   ]
  },
  {
   "cell_type": "code",
   "execution_count": 11,
   "id": "fc464ba7-c922-40b8-ba57-a403d994ee57",
   "metadata": {},
   "outputs": [
    {
     "name": "stdout",
     "output_type": "stream",
     "text": [
      "Error: Age cannot be negative\n"
     ]
    }
   ],
   "source": [
    "# 3. raise-\n",
    "def validate_age(age):\n",
    "    if age < 0:\n",
    "        raise ValueError(\"Age cannot be negative\")\n",
    "    elif age > 120:\n",
    "        raise ValueError(\"Invalid age\")\n",
    "    else:\n",
    "        print(\"Valid age\")\n",
    "\n",
    "try:\n",
    "    age = -10\n",
    "    validate_a\n",
    "    ge(age)\n",
    "except ValueError as error:\n",
    "    print(\"Error:\", str(error))\n"
   ]
  },
  {
   "cell_type": "code",
   "execution_count": 12,
   "id": "524ef02f-7e70-4eb1-aa7e-58f502b4a0f4",
   "metadata": {},
   "outputs": [
    {
     "name": "stdout",
     "output_type": "stream",
     "text": [
      "Error: Insufficient funds\n"
     ]
    }
   ],
   "source": [
    "# Q5-\n",
    "\"\"\"\n",
    "In Python, custom exceptions are user-defined exceptions that extend the built-in\n",
    "exception classes or other custom exception classes. They allow us to define and \n",
    "raise exceptions specific to our application or domain.\n",
    "\n",
    "Custom exceptions are useful when we want to differentiate certain exceptional\n",
    "conditions in our code and provide meaningful error messages or specific handling\n",
    "for those conditions. By defining custom exceptions, we can communicate the nature \n",
    "of the error more effectively and handle it appropriately.\n",
    "\"\"\"\n",
    "\n",
    "class BankError(Exception):\n",
    "    pass\n",
    "\n",
    "class InsufficientFundsError(BankError):\n",
    "    pass\n",
    "\n",
    "class InvalidTransactionError(BankError):\n",
    "    pass\n",
    "\n",
    "class BankAccount:\n",
    "    def __init__(self, balance):\n",
    "        self.balance = balance\n",
    "\n",
    "    def withdraw(self, amount):\n",
    "        if amount <= 0:\n",
    "            raise InvalidTransactionError(\"Invalid withdrawal amount\")\n",
    "        if amount > self.balance:\n",
    "            raise InsufficientFundsError(\"Insufficient funds\")\n",
    "        self.balance -= amount\n",
    "\n",
    "account = BankAccount(1000)\n",
    "\n",
    "try:\n",
    "    account.withdraw(1200)\n",
    "except BankError as error:\n",
    "    print(\"Error:\", str(error))\n"
   ]
  },
  {
   "cell_type": "code",
   "execution_count": 13,
   "id": "4a4a82b2-ce78-4797-bb5c-7ecf8ee62785",
   "metadata": {},
   "outputs": [
    {
     "name": "stdout",
     "output_type": "stream",
     "text": [
      "Error: Cannot calculate square root of a negative number\n"
     ]
    }
   ],
   "source": [
    "#Q6-\n",
    "class NegativeNumberError(Exception):\n",
    "    def __init__(self, message):\n",
    "        super().__init__(message)\n",
    "\n",
    "def square_root(number):\n",
    "    if number < 0:\n",
    "        raise NegativeNumberError(\"Cannot calculate square root of a negative number\")\n",
    "    return number ** 0.5\n",
    "\n",
    "try:\n",
    "    result = square_root(-9)\n",
    "    print(\"Square root:\", result)\n",
    "except NegativeNumberError as error:\n",
    "    print(\"Error:\", str(error))\n"
   ]
  },
  {
   "cell_type": "code",
   "execution_count": null,
   "id": "2ca66fb7-3f9c-4b50-a693-a2eab400eb02",
   "metadata": {},
   "outputs": [],
   "source": []
  }
 ],
 "metadata": {
  "kernelspec": {
   "display_name": "Python 3 (ipykernel)",
   "language": "python",
   "name": "python3"
  },
  "language_info": {
   "codemirror_mode": {
    "name": "ipython",
    "version": 3
   },
   "file_extension": ".py",
   "mimetype": "text/x-python",
   "name": "python",
   "nbconvert_exporter": "python",
   "pygments_lexer": "ipython3",
   "version": "3.10.8"
  }
 },
 "nbformat": 4,
 "nbformat_minor": 5
}
